{
  "cells": [
    {
      "cell_type": "markdown",
      "id": "aa62413a-615a-4430-ba84-19024bc48092",
      "metadata": {
        "id": "aa62413a-615a-4430-ba84-19024bc48092"
      },
      "source": [
        "# Address Similarity Analysis Using TF-IDF Vectorization and Cosine Similarity\n",
        "\n",
        "## Introduction\n",
        "In this notebook, we demonstrate how to use TF-IDF vectorization and cosine similarity to identify the original forms of shortened addresses. This approach is useful in scenarios where addresses may have been truncated or altered or there is misspelling, and we need to find their closest matches from a reference dataset."
      ]
    },
    {
      "cell_type": "markdown",
      "id": "905f9d2f-3731-4e27-840f-7b345d5b0d9f",
      "metadata": {
        "id": "905f9d2f-3731-4e27-840f-7b345d5b0d9f"
      },
      "source": [
        "### Colab-Specific Setup\n",
        "\n",
        "This block of code is designed specifically for running the notebook in Google Colab. It checks if the environment is Colab, and if so, it performs the following actions:\n",
        "\n",
        "1. **Navigates to the Root Directory**: Ensures the starting directory is `/content`, the root directory in Colab.\n",
        "2. **Clones the GitHub Repository**: If the repository does not already exist in the Colab environment, it is cloned from GitHub.\n",
        "3. **Sets the Working Directory**: Changes the working directory to the cloned repository's directory, ensuring that all relative file paths in the code will work as expected.\n",
        "\n",
        "If the notebook is not running in Google Colab, this block of code is skipped, allowing the code to be executed locally without any issues."
      ]
    },
    {
      "cell_type": "code",
      "execution_count": null,
      "id": "8ede3bd4-7391-4486-af2c-fd0f13063909",
      "metadata": {
        "id": "8ede3bd4-7391-4486-af2c-fd0f13063909",
        "outputId": "d1e7cbcc-279d-4700-a873-4cb1c7e4346a"
      },
      "outputs": [
        {
          "name": "stdout",
          "output_type": "stream",
          "text": [
            "Not running in Google Colab. Skipping Colab-specific setup.\n"
          ]
        }
      ],
      "source": [
        "import os\n",
        "\n",
        "# Check if the code is running in Google Colab\n",
        "def in_colab():\n",
        "    try:\n",
        "        import google.colab\n",
        "        return True\n",
        "    except ImportError:\n",
        "        return False\n",
        "\n",
        "# Run Colab-specific setup code only if in Colab\n",
        "if in_colab():\n",
        "    # Ensure starting at the root directory\n",
        "    %cd /content\n",
        "\n",
        "    # Define the repository name\n",
        "    repo_name = 'address-similarity-analysis'\n",
        "\n",
        "    # Check if the directory already exists\n",
        "    if not os.path.exists(repo_name):\n",
        "        !git clone https://github.com/aleereza/address-similarity-analysis.git\n",
        "        print(\"Repository cloned in google colab\")\n",
        "    else:\n",
        "        print(\"Repository already exists in google colab\")\n",
        "\n",
        "    %cd address-similarity-analysis/notebooks\n",
        "\n",
        "    print(\"Current working directory:\", os.getcwd())\n",
        "else:\n",
        "    print(\"Not running in Google Colab. Skipping Colab-specific setup.\")"
      ]
    },
    {
      "cell_type": "markdown",
      "id": "ed90b98c-ea8b-48f8-9aa4-85980f82ef71",
      "metadata": {
        "id": "ed90b98c-ea8b-48f8-9aa4-85980f82ef71"
      },
      "source": [
        "## Data Loading\n",
        "We start by loading the original and modified addresses from JSON files."
      ]
    },
    {
      "cell_type": "code",
      "execution_count": null,
      "id": "ec127e0b-9c08-49b4-816d-319664cd8c0e",
      "metadata": {
        "id": "ec127e0b-9c08-49b4-816d-319664cd8c0e",
        "outputId": "91285d69-bc3a-4d65-9132-aca374c9ce3e"
      },
      "outputs": [
        {
          "name": "stdout",
          "output_type": "stream",
          "text": [
            "There are 3220 addresses in this dataset\n"
          ]
        }
      ],
      "source": [
        "import json\n",
        "import pandas as pd\n",
        "from sklearn.feature_extraction.text import TfidfVectorizer\n",
        "from sklearn.metrics.pairwise import cosine_similarity\n",
        "\n",
        "# Load the original and modified addresses\n",
        "with open('../data/original_all_addresses.json', 'r') as file:\n",
        "    all_addresses = json.load(file)\n",
        "\n",
        "with open('../data/modified_all_addresses.json', 'r') as file:\n",
        "    modified_addresses = json.load(file)\n",
        "\n",
        "# Convert the list of addresses to DataFrame\n",
        "df_all_addresses = pd.DataFrame(all_addresses, columns=['address'])\n",
        "df_modified_addresses = pd.DataFrame(modified_addresses, columns=['address'])\n",
        "\n",
        "# Number of addresses\n",
        "print(f\"There are {len(df_all_addresses)} addresses in this dataset\" )"
      ]
    },
    {
      "cell_type": "markdown",
      "id": "15e4374c-4357-41a5-a846-6f5db73ea1f6",
      "metadata": {
        "id": "15e4374c-4357-41a5-a846-6f5db73ea1f6"
      },
      "source": [
        "## TF-IDF Vectorization\n",
        "TF-IDF (Term Frequency-Inverse Document Frequency) vectorization converts text data into numerical representations. Each address is transformed into a vector that reflects the importance of each word in the context of the entire dataset."
      ]
    },
    {
      "cell_type": "markdown",
      "id": "19a06549-a59a-40d5-a8d6-bc03ad1443ac",
      "metadata": {
        "id": "19a06549-a59a-40d5-a8d6-bc03ad1443ac"
      },
      "source": [
        "### Term Frequency (TF)\n",
        "\n",
        "Term Frequency measures how frequently a term appears in a document. In our case, it measures how often a word appears in an address. To do this, we need to take two steps:\n",
        "\n",
        "1. **Fit**: This step involves learning the vocabulary of all tokens (words) in the raw text documents. The vocabulary is a set of all distinct words in the corpus. In this case, the `fit` method looks at the entire list of addresses and identifies all the unique words.\n",
        "\n",
        "2. **Transform**: This step transforms the text documents into a term frequency matrix. Each row in this matrix represents a document (an address), and each column represents a token (word) from the vocabulary. The values in the matrix are the counts of the tokens in each address. The result is typically a sparse matrix where most of the elements are zero. This is because most addresses will not contain most of the words.\n",
        "\n",
        "The `fit_transform` method of `CountVectorizer` is a combined function that performs both the `fit` and `transform` functions and returns the term frequency matrix.\n",
        "\n",
        "Let's first try it on a small number of addresses for a better understanding of the result:"
      ]
    },
    {
      "cell_type": "code",
      "execution_count": null,
      "id": "55b5873e-2b9a-4807-8292-ca8b02fe9944",
      "metadata": {
        "id": "55b5873e-2b9a-4807-8292-ca8b02fe9944",
        "outputId": "1010ea80-6eeb-432a-a2a8-3fe35e38eb83"
      },
      "outputs": [
        {
          "name": "stdout",
          "output_type": "stream",
          "text": [
            "                   address  150  1745  2721  560  6007  applegate  avenue  \\\n",
            "0  1745 T Street Southeast    0     1     0    0     0          0       0   \n",
            "1      6007 Applegate Lane    0     0     0    0     1          1       0   \n",
            "2       560 Penstock Drive    0     0     0    1     0          0       0   \n",
            "3        150 Carter Street    1     0     0    0     0          0       0   \n",
            "4      2721 Lindsay Avenue    0     0     1    0     0          0       1   \n",
            "\n",
            "   carter  drive  lane  lindsay  penstock  southeast  street  \n",
            "0       0      0     0        0         0          1       1  \n",
            "1       0      0     1        0         0          0       0  \n",
            "2       0      1     0        0         1          0       0  \n",
            "3       1      0     0        0         0          0       1  \n",
            "4       0      0     0        1         0          0       0  \n"
          ]
        }
      ],
      "source": [
        "from sklearn.feature_extraction.text import CountVectorizer\n",
        "def display_sample_term_frequency_matrix(df, n_samples):\n",
        "\n",
        "    top_addresses = df['address'].head(n_samples).tolist()\n",
        "\n",
        "    # Initialize the Count Vectorizer\n",
        "    count_vectorizer = CountVectorizer()\n",
        "\n",
        "    # Fit and transform the addresses to get the term frequencies\n",
        "    term_frequencies = count_vectorizer.fit_transform(top_addresses)\n",
        "    tf_df = pd.DataFrame(term_frequencies.toarray(), columns=count_vectorizer.get_feature_names_out())\n",
        "\n",
        "    # Add the address column to the DataFrame for better readability\n",
        "    tf_df.insert(0, 'address', top_addresses)\n",
        "    print(tf_df)\n",
        "\n",
        "display_sample_term_frequency_matrix(df_all_addresses, 5)"
      ]
    },
    {
      "cell_type": "markdown",
      "id": "6f40bed1-228e-41a3-b08e-fcf95681746f",
      "metadata": {
        "id": "6f40bed1-228e-41a3-b08e-fcf95681746f"
      },
      "source": [
        "Now lets apply that to the entire list of addresses:"
      ]
    },
    {
      "cell_type": "code",
      "execution_count": null,
      "id": "0d4ed9de-f920-44f2-a11a-2c2ad6c73a78",
      "metadata": {
        "id": "0d4ed9de-f920-44f2-a11a-2c2ad6c73a78",
        "outputId": "cf926ab4-22a2-4b9d-cf73-4938b91d3589"
      },
      "outputs": [
        {
          "name": "stdout",
          "output_type": "stream",
          "text": [
            "Term frequesncies matrix shape: (3220, 4389)\n"
          ]
        }
      ],
      "source": [
        "# Initialize the Count Vectorizer\n",
        "count_vectorizer = CountVectorizer()\n",
        "\n",
        "# Fit and transform the addresses to get the term frequencies\n",
        "term_frequencies = count_vectorizer.fit_transform(df_all_addresses['address'])\n",
        "\n",
        "# Create a DataFrame to display the term frequencies\n",
        "# Each row is an address and each column is a unique word from all addresses and the value is the count of that word in that address\n",
        "tf_df = pd.DataFrame(term_frequencies.toarray(), columns=count_vectorizer.get_feature_names_out())\n",
        "\n",
        "print(f\"Term frequesncies matrix shape: {tf_df.shape}\")"
      ]
    },
    {
      "cell_type": "markdown",
      "id": "fbc60bc8-ef8f-4387-96c6-a7f9b181702d",
      "metadata": {
        "id": "fbc60bc8-ef8f-4387-96c6-a7f9b181702d"
      },
      "source": [
        "### Inverse Document Frequency (IDF)\n",
        "\n",
        "Inverse Document Frequency measures the importance of a term in the entire corpus. It reduces the weight of common terms and increases the weight of rare terms. Let's calculate the IDF for the terms in our address data."
      ]
    },
    {
      "cell_type": "code",
      "execution_count": null,
      "id": "a6388ff3-fffe-4c9e-a890-fdedd487d700",
      "metadata": {
        "id": "a6388ff3-fffe-4c9e-a890-fdedd487d700",
        "outputId": "32b930b7-2318-4db1-ba00-935129017a0b"
      },
      "outputs": [
        {
          "name": "stdout",
          "output_type": "stream",
          "text": [
            "top most common words (Low IDF value):\n",
            "           Term       IDF\n",
            "4101     street  2.395339\n",
            "2910      drive  2.742393\n",
            "2431     avenue  2.819780\n",
            "3905       road  2.988402\n",
            "4296       west  3.357135\n",
            "3673      north  3.809589\n",
            "3394       lane  3.895664\n",
            "2798      court  3.924156\n",
            "3680  northwest  4.179607\n",
            "2927       east  4.202250\n",
            "top least common words (High IDF value):\n",
            "         Term     IDF\n",
            "2194     8726  8.3843\n",
            "3720  pafford  8.3843\n",
            "2211     8848  8.3843\n",
            "2212     8852  8.3843\n",
            "2213     8886  8.3843\n",
            "2214     88th  8.3843\n",
            "3721  palermo  8.3843\n",
            "2216      890  8.3843\n",
            "2217     8915  8.3843\n",
            "2218     8934  8.3843\n"
          ]
        }
      ],
      "source": [
        "# Initialize the TF-IDF Vectorizer\n",
        "tfidf_vectorizer = TfidfVectorizer(use_idf=True)\n",
        "\n",
        "# Fit the vectorizer to the address data\n",
        "tfidf_vectorizer.fit(df_all_addresses['address'])\n",
        "\n",
        "# Get the IDF values for each term\n",
        "idf_values = tfidf_vectorizer.idf_\n",
        "\n",
        "# Create a DataFrame to display the IDF values\n",
        "idf_df = pd.DataFrame({'Term': tfidf_vectorizer.get_feature_names_out(), 'IDF': idf_values})\n",
        "\n",
        "print(\"top most common words (Low IDF value):\")\n",
        "print(idf_df.sort_values(by='IDF', ascending=True).head(10))\n",
        "print(\"top least common words (High IDF value):\")\n",
        "print(idf_df.sort_values(by='IDF', ascending=False).head(10))"
      ]
    },
    {
      "cell_type": "markdown",
      "id": "e289dace-8de5-430e-adf8-c2e1388df382",
      "metadata": {
        "id": "e289dace-8de5-430e-adf8-c2e1388df382"
      },
      "source": [
        "### Combining TF and IDF to Get TF-IDF\n",
        "\n",
        "TF-IDF is calculated by multiplying the Term Frequency (TF) of a term by its Inverse Document Frequency (IDF). This gives us a measure of the importance of a term in a specific document (address in this case) relative to the entire corpus. Let's calculate the TF-IDF values for a small sample of address data."
      ]
    },
    {
      "cell_type": "code",
      "execution_count": null,
      "id": "63126beb-013b-40a0-a195-03f5e5721590",
      "metadata": {
        "id": "63126beb-013b-40a0-a195-03f5e5721590",
        "outputId": "1d7c276d-6d78-4681-e4c0-9df603a2998f"
      },
      "outputs": [
        {
          "data": {
            "text/html": [
              "<div>\n",
              "<style scoped>\n",
              "    .dataframe tbody tr th:only-of-type {\n",
              "        vertical-align: middle;\n",
              "    }\n",
              "\n",
              "    .dataframe tbody tr th {\n",
              "        vertical-align: top;\n",
              "    }\n",
              "\n",
              "    .dataframe thead th {\n",
              "        text-align: right;\n",
              "    }\n",
              "</style>\n",
              "<table border=\"1\" class=\"dataframe\">\n",
              "  <thead>\n",
              "    <tr style=\"text-align: right;\">\n",
              "      <th></th>\n",
              "      <th>10</th>\n",
              "      <th>100</th>\n",
              "      <th>10001</th>\n",
              "      <th>1001</th>\n",
              "      <th>1002</th>\n",
              "      <th>1004</th>\n",
              "      <th>1007</th>\n",
              "      <th>1008</th>\n",
              "      <th>101</th>\n",
              "      <th>1010</th>\n",
              "      <th>...</th>\n",
              "      <th>yerxa</th>\n",
              "      <th>yosemite</th>\n",
              "      <th>young</th>\n",
              "      <th>youngs</th>\n",
              "      <th>yucca</th>\n",
              "      <th>yule</th>\n",
              "      <th>zelda</th>\n",
              "      <th>zenith</th>\n",
              "      <th>zephyr</th>\n",
              "      <th>zion</th>\n",
              "    </tr>\n",
              "  </thead>\n",
              "  <tbody>\n",
              "    <tr>\n",
              "      <th>0</th>\n",
              "      <td>0.0</td>\n",
              "      <td>0.0</td>\n",
              "      <td>0.0</td>\n",
              "      <td>0.0</td>\n",
              "      <td>0.0</td>\n",
              "      <td>0.0</td>\n",
              "      <td>0.0</td>\n",
              "      <td>0.0</td>\n",
              "      <td>0.0</td>\n",
              "      <td>0.0</td>\n",
              "      <td>...</td>\n",
              "      <td>0.0</td>\n",
              "      <td>0.0</td>\n",
              "      <td>0.0</td>\n",
              "      <td>0.0</td>\n",
              "      <td>0.0</td>\n",
              "      <td>0.0</td>\n",
              "      <td>0.0</td>\n",
              "      <td>0.0</td>\n",
              "      <td>0.0</td>\n",
              "      <td>0.0</td>\n",
              "    </tr>\n",
              "    <tr>\n",
              "      <th>1</th>\n",
              "      <td>0.0</td>\n",
              "      <td>0.0</td>\n",
              "      <td>0.0</td>\n",
              "      <td>0.0</td>\n",
              "      <td>0.0</td>\n",
              "      <td>0.0</td>\n",
              "      <td>0.0</td>\n",
              "      <td>0.0</td>\n",
              "      <td>0.0</td>\n",
              "      <td>0.0</td>\n",
              "      <td>...</td>\n",
              "      <td>0.0</td>\n",
              "      <td>0.0</td>\n",
              "      <td>0.0</td>\n",
              "      <td>0.0</td>\n",
              "      <td>0.0</td>\n",
              "      <td>0.0</td>\n",
              "      <td>0.0</td>\n",
              "      <td>0.0</td>\n",
              "      <td>0.0</td>\n",
              "      <td>0.0</td>\n",
              "    </tr>\n",
              "    <tr>\n",
              "      <th>2</th>\n",
              "      <td>0.0</td>\n",
              "      <td>0.0</td>\n",
              "      <td>0.0</td>\n",
              "      <td>0.0</td>\n",
              "      <td>0.0</td>\n",
              "      <td>0.0</td>\n",
              "      <td>0.0</td>\n",
              "      <td>0.0</td>\n",
              "      <td>0.0</td>\n",
              "      <td>0.0</td>\n",
              "      <td>...</td>\n",
              "      <td>0.0</td>\n",
              "      <td>0.0</td>\n",
              "      <td>0.0</td>\n",
              "      <td>0.0</td>\n",
              "      <td>0.0</td>\n",
              "      <td>0.0</td>\n",
              "      <td>0.0</td>\n",
              "      <td>0.0</td>\n",
              "      <td>0.0</td>\n",
              "      <td>0.0</td>\n",
              "    </tr>\n",
              "    <tr>\n",
              "      <th>3</th>\n",
              "      <td>0.0</td>\n",
              "      <td>0.0</td>\n",
              "      <td>0.0</td>\n",
              "      <td>0.0</td>\n",
              "      <td>0.0</td>\n",
              "      <td>0.0</td>\n",
              "      <td>0.0</td>\n",
              "      <td>0.0</td>\n",
              "      <td>0.0</td>\n",
              "      <td>0.0</td>\n",
              "      <td>...</td>\n",
              "      <td>0.0</td>\n",
              "      <td>0.0</td>\n",
              "      <td>0.0</td>\n",
              "      <td>0.0</td>\n",
              "      <td>0.0</td>\n",
              "      <td>0.0</td>\n",
              "      <td>0.0</td>\n",
              "      <td>0.0</td>\n",
              "      <td>0.0</td>\n",
              "      <td>0.0</td>\n",
              "    </tr>\n",
              "    <tr>\n",
              "      <th>4</th>\n",
              "      <td>0.0</td>\n",
              "      <td>0.0</td>\n",
              "      <td>0.0</td>\n",
              "      <td>0.0</td>\n",
              "      <td>0.0</td>\n",
              "      <td>0.0</td>\n",
              "      <td>0.0</td>\n",
              "      <td>0.0</td>\n",
              "      <td>0.0</td>\n",
              "      <td>0.0</td>\n",
              "      <td>...</td>\n",
              "      <td>0.0</td>\n",
              "      <td>0.0</td>\n",
              "      <td>0.0</td>\n",
              "      <td>0.0</td>\n",
              "      <td>0.0</td>\n",
              "      <td>0.0</td>\n",
              "      <td>0.0</td>\n",
              "      <td>0.0</td>\n",
              "      <td>0.0</td>\n",
              "      <td>0.0</td>\n",
              "    </tr>\n",
              "  </tbody>\n",
              "</table>\n",
              "<p>5 rows × 4389 columns</p>\n",
              "</div>"
            ],
            "text/plain": [
              "    10  100  10001  1001  1002  1004  1007  1008  101  1010  ...  yerxa  \\\n",
              "0  0.0  0.0    0.0   0.0   0.0   0.0   0.0   0.0  0.0   0.0  ...    0.0   \n",
              "1  0.0  0.0    0.0   0.0   0.0   0.0   0.0   0.0  0.0   0.0  ...    0.0   \n",
              "2  0.0  0.0    0.0   0.0   0.0   0.0   0.0   0.0  0.0   0.0  ...    0.0   \n",
              "3  0.0  0.0    0.0   0.0   0.0   0.0   0.0   0.0  0.0   0.0  ...    0.0   \n",
              "4  0.0  0.0    0.0   0.0   0.0   0.0   0.0   0.0  0.0   0.0  ...    0.0   \n",
              "\n",
              "   yosemite  young  youngs  yucca  yule  zelda  zenith  zephyr  zion  \n",
              "0       0.0    0.0     0.0    0.0   0.0    0.0     0.0     0.0   0.0  \n",
              "1       0.0    0.0     0.0    0.0   0.0    0.0     0.0     0.0   0.0  \n",
              "2       0.0    0.0     0.0    0.0   0.0    0.0     0.0     0.0   0.0  \n",
              "3       0.0    0.0     0.0    0.0   0.0    0.0     0.0     0.0   0.0  \n",
              "4       0.0    0.0     0.0    0.0   0.0    0.0     0.0     0.0   0.0  \n",
              "\n",
              "[5 rows x 4389 columns]"
            ]
          },
          "execution_count": 17,
          "metadata": {},
          "output_type": "execute_result"
        }
      ],
      "source": [
        "# Transform the addresses to get the TF-IDF values\n",
        "tfidf_matrix = tfidf_vectorizer.transform(df_all_addresses['address'])\n",
        "\n",
        "# Create a DataFrame to display the TF-IDF values\n",
        "tfidf_df = pd.DataFrame(tfidf_matrix.toarray(), columns=tfidf_vectorizer.get_feature_names_out())\n",
        "tfidf_df.head()"
      ]
    },
    {
      "cell_type": "markdown",
      "id": "0b9a6893-82e1-40f9-9d47-0644762989c8",
      "metadata": {
        "id": "0b9a6893-82e1-40f9-9d47-0644762989c8"
      },
      "source": [
        "as expected it is mostly zero. to have a better undrestanding of the efidf matrix, lets only look at the columns that exist in the top 5 addresses. another point to consider is that The CountVectorizer and TfidfVectorizer classes in scikit-learn have default parameters that ignore terms with a length of one character. This is done to remove common stopwords and single-character tokens that are not useful for analysis:"
      ]
    },
    {
      "cell_type": "code",
      "execution_count": null,
      "id": "429915b4-4e07-436a-b74d-876e27152366",
      "metadata": {
        "id": "429915b4-4e07-436a-b74d-876e27152366",
        "outputId": "fde7169a-ae69-43d7-ff16-98c729bcebbb"
      },
      "outputs": [
        {
          "name": "stdout",
          "output_type": "stream",
          "text": [
            "                   address       150      1745      2721       560      6007  \\\n",
            "0  1745 T Street Southeast  0.000000  0.826431  0.000000  0.000000  0.000000   \n",
            "1      6007 Applegate Lane  0.000000  0.000000  0.000000  0.000000  0.653357   \n",
            "2       560 Penstock Drive  0.000000  0.000000  0.000000  0.688921  0.000000   \n",
            "3        150 Carter Street  0.650487  0.000000  0.000000  0.000000  0.000000   \n",
            "4      2721 Lindsay Avenue  0.000000  0.000000  0.687922  0.000000  0.000000   \n",
            "\n",
            "   applegate   avenue    carter     drive      lane   lindsay  penstock  \\\n",
            "0   0.000000  0.00000  0.000000  0.000000  0.000000  0.000000  0.000000   \n",
            "1   0.686559  0.00000  0.000000  0.000000  0.319001  0.000000  0.000000   \n",
            "2   0.000000  0.00000  0.000000  0.225337  0.000000  0.000000  0.688921   \n",
            "3   0.000000  0.00000  0.730298  0.000000  0.000000  0.000000  0.000000   \n",
            "4   0.000000  0.23136  0.000000  0.000000  0.000000  0.687922  0.000000   \n",
            "\n",
            "   southeast    street  \n",
            "0   0.511141  0.236106  \n",
            "1   0.000000  0.000000  \n",
            "2   0.000000  0.000000  \n",
            "3   0.000000  0.208641  \n",
            "4   0.000000  0.000000  \n"
          ]
        }
      ],
      "source": [
        "# Add the address column to the DataFrame for better readability\n",
        "tfidf_df.insert(0, 'address', df_all_addresses['address'])\n",
        "\n",
        "# Get the top 5 addresses\n",
        "top_5_addresses = df_all_addresses['address'].head(5)\n",
        "\n",
        "# Get the TF-IDF values for the top 5 addresses\n",
        "top_5_tfidf_matrix = tfidf_vectorizer.transform(top_5_addresses)\n",
        "top_5_tfidf_df = pd.DataFrame(top_5_tfidf_matrix.toarray(), columns=tfidf_vectorizer.get_feature_names_out())\n",
        "\n",
        "# Get the terms that exist in the top 5 addresses\n",
        "non_zero_columns = top_5_tfidf_df.loc[:, (top_5_tfidf_df != 0).any(axis=0)].columns\n",
        "\n",
        "# Filter the original TF-IDF DataFrame to include only these columns\n",
        "filtered_tfidf_df = tfidf_df[['address'] + list(non_zero_columns)]\n",
        "\n",
        "# Display the filtered DataFrame\n",
        "print(filtered_tfidf_df.head())\n"
      ]
    },
    {
      "cell_type": "markdown",
      "id": "1f4f5e69-1a01-47e0-b296-a54c5988fec6",
      "metadata": {
        "id": "1f4f5e69-1a01-47e0-b296-a54c5988fec6"
      },
      "source": [
        "### Visualizing TF-IDF Values\n",
        "\n",
        "To better understand the importance of different terms in our address data, we can visualize the TF-IDF values. Here you can plot the TF-IDF scores for any address index.\n"
      ]
    },
    {
      "cell_type": "code",
      "execution_count": null,
      "id": "6914748d-8104-42a7-9670-ca7e95964d4e",
      "metadata": {
        "id": "6914748d-8104-42a7-9670-ca7e95964d4e",
        "outputId": "5c4d902a-90f5-4df3-fc22-c5999ea00cb9"
      },
      "outputs": [
        {
          "data": {
            "image/png": "[encoded data removed]",
            "text/plain": [
              "<Figure size 600x400 with 1 Axes>"
            ]
          },
          "metadata": {},
          "output_type": "display_data"
        }
      ],
      "source": [
        "import matplotlib.pyplot as plt\n",
        "\n",
        "# Select a sample address to visualize its TF-IDF values\n",
        "sample_address_index = 15\n",
        "sample_address = df_all_addresses['address'].iloc[sample_address_index]\n",
        "sample_tfidf_values = tfidf_matrix[sample_address_index].toarray().flatten()\n",
        "\n",
        "# Create a DataFrame for the sample TF-IDF values\n",
        "sample_tfidf_df = pd.DataFrame({'Term': tfidf_vectorizer.get_feature_names_out(), 'TF-IDF': sample_tfidf_values})\n",
        "sample_tfidf_df = sample_tfidf_df[sample_tfidf_df['TF-IDF'] > 0]  # Filter out zero TF-IDF values\n",
        "\n",
        "# Plot the TF-IDF values\n",
        "plt.figure(figsize=(6, 4))\n",
        "plt.barh(sample_tfidf_df['Term'], sample_tfidf_df['TF-IDF'])\n",
        "plt.xlabel('TF-IDF Value')\n",
        "plt.ylabel('Term')\n",
        "plt.title(f'TF-IDF Values for Address: \"{sample_address}\"')\n",
        "plt.show()\n"
      ]
    },
    {
      "cell_type": "markdown",
      "id": "bca7bf71-6ca9-4803-a0c7-cd17682134da",
      "metadata": {
        "id": "bca7bf71-6ca9-4803-a0c7-cd17682134da"
      },
      "source": [
        "### Applying TF-IDF Vectorization to Address Data\n",
        "\n",
        "Once we have a detailed understanding of TF-IDF, we can apply this technique to our address data. The purpose of the previous TF-IDF code was to explain how the method works under the hood. For obtaining the results, the few lines of code below are sufficient to calculate the TF-IDF matrix for both the original addresses (training set) and the modified addresses (test set). The following steps illustrate how we initialize the TF-IDF Vectorizer, fit it to our original addresses, and transform both the original and modified addresses into TF-IDF matrices.\n",
        "\n",
        "1. **Initialize the TF-IDF Vectorizer**:\n",
        "   - We start by creating an instance of `TfidfVectorizer`. This object will be used to convert our text data into TF-IDF features.\n",
        "\n",
        "2. **Fit and Transform the Original Addresses**:\n",
        "   - The `fit_transform` method is applied to the original addresses (`df_all_addresses['address']`). This step will directly give us the TF-IDF matrix for the original address data.\n",
        "\n",
        "3. **Transform the Modified Addresses**:\n",
        "   - Using the already fitted vectorizer, we transform the modified addresses (`df_modified_addresses['address']`). This step uses the learned vocabulary and IDF to convert the modified addresses into a TF-IDF matrix. It is important to note that we don't fit the vectorizer on the modified addresses. In other words, we are not calculating the importance value of those terms that only exist in the modified version (test set) and consider it as zero. A TF-IDF value of zero means that the term does not contribute to the document vector in the transformed space. This neutrality ensures that new terms do not introduce any bias or noise into the similarity calculation. Essentially, the similarity is calculated based only on the shared vocabulary learned from the original data.\n",
        "\n",
        "By performing these steps, we convert our textual address data into numerical TF-IDF representations. These representations can then be used for further analysis, such as comparing the similarity between original and modified addresses using cosine similarity.\n",
        "\n"
      ]
    },
    {
      "cell_type": "code",
      "execution_count": null,
      "id": "6d0ff44a-408a-49e5-90bc-2d40095ff23d",
      "metadata": {
        "id": "6d0ff44a-408a-49e5-90bc-2d40095ff23d",
        "outputId": "9179e0a9-6a9b-4b02-9c1c-4ae564cb706b"
      },
      "outputs": [
        {
          "name": "stdout",
          "output_type": "stream",
          "text": [
            "tfidf_all matrix shape: (3220, 4389)\n",
            "tfidf_modified matrix shape: (3220, 4389)\n"
          ]
        }
      ],
      "source": [
        "# Initialize the TF-IDF Vectorizer\n",
        "vectorizer = TfidfVectorizer()\n",
        "\n",
        "# Fit and transform the addresses with TF-IDF Vectorizer\n",
        "tfidf_all = vectorizer.fit_transform(df_all_addresses['address'])\n",
        "tfidf_modified = vectorizer.transform(df_modified_addresses['address'])\n",
        "print(f\"tfidf_all matrix shape: {tfidf_all.shape}\")\n",
        "print(f\"tfidf_modified matrix shape: {tfidf_modified.shape}\")"
      ]
    },
    {
      "cell_type": "markdown",
      "id": "2f876435-7eb2-40ba-9e52-04cc7ff8f129",
      "metadata": {
        "id": "2f876435-7eb2-40ba-9e52-04cc7ff8f129"
      },
      "source": [
        "### Cosine Similarity\n",
        "\n",
        "Cosine similarity is a metric used to determine how similar two documents are, regardless of their size. It calculates the cosine of the angle between two vectors, which in our case, are the TF-IDF representations of the addresses. Here’s how it works:\n",
        "\n",
        "1. **Cosine Similarity Calculation**:\n",
        "   - Cosine similarity is calculated by dividing the dot product of the vectors by the product of their magnitudes. This results in a value between -1 and 1.\n",
        "   - **Value of 1**: This indicates that the vectors are identical in direction, meaning the documents (addresses) are very similar.\n",
        "   - **Value of 0**: This indicates that the vectors are orthogonal, meaning the documents have no terms in common and are completely different.\n",
        "   - **Value of -1**: This indicates that the vectors are diametrically opposed, meaning they are completely dissimilar.\n",
        "\n",
        "2. **Dot Product**:\n",
        "   - The dot product of two vectors is the sum of the products of their corresponding elements. For example, for vectors A and B, the dot product is the sum of the products of their corresponding values.\n",
        "\n",
        "3. **Magnitude**:\n",
        "   - The magnitude (or length) of a vector is calculated as the square root of the sum of the squares of its elements. This gives a measure of the vector's length in multidimensional space.\n",
        "\n",
        "The `cosine_similarity(tfidf_modified, tfidf_all)` function in scikit-learn calculates the cosine similarity between each pair of vectors in the input matrices. The result of `cosine_similarity(tfidf_modified, tfidf_all)` is a matrix where each element (i, j) represents the cosine similarity between the i-th vector in tfidf_modified and the j-th vector in tfidf_all.\n",
        "\n",
        "Cosine similarity is particularly useful for text analysis because it is invariant to the length of the documents. This means that it focuses on the orientation (direction) of the vectors rather than their magnitude, making it ideal for comparing documents of different lengths.\n",
        "\n",
        "By using cosine similarity, we can measure how similar the modified addresses are to the original addresses based on their TF-IDF representations. This helps in identifying the most similar original address for each modified address, providing insights into how the addresses have changed."
      ]
    },
    {
      "cell_type": "code",
      "execution_count": null,
      "id": "319136c0-264c-4d38-8b8f-41960be42f66",
      "metadata": {
        "id": "319136c0-264c-4d38-8b8f-41960be42f66",
        "outputId": "838985da-0101-4e86-d297-02d0d560e71f"
      },
      "outputs": [
        {
          "name": "stdout",
          "output_type": "stream",
          "text": [
            "Cosine Similarities Matrix shape: (3220, 3220)\n",
            "Cosine Similarities Matrix type: <class 'numpy.ndarray'>\n"
          ]
        }
      ],
      "source": [
        "# Calculate cosine similarity between the shortened and original addresses\n",
        "cosine_similarities = cosine_similarity(tfidf_modified, tfidf_all)\n",
        "print(f\"Cosine Similarities Matrix shape: {cosine_similarities.shape}\")\n",
        "print(f\"Cosine Similarities Matrix type: {type(cosine_similarities)}\")"
      ]
    },
    {
      "cell_type": "markdown",
      "id": "6b9168c0-e397-414b-8829-246653586703",
      "metadata": {
        "id": "6b9168c0-e397-414b-8829-246653586703"
      },
      "source": [
        "## Matching Modified Addresses to Original Addresses\n",
        "We define a function to find the most similar original address for each modified address based on the highest cosine similarity. This function returns a list where each element is the original address most similar to the corresponding modified address.\""
      ]
    },
    {
      "cell_type": "code",
      "execution_count": null,
      "id": "66eaa3b7-3f7a-44fe-834b-b8bcba09f2a4",
      "metadata": {
        "id": "66eaa3b7-3f7a-44fe-834b-b8bcba09f2a4"
      },
      "outputs": [],
      "source": [
        "# Function to find the most similar original address for each shortened address\n",
        "def find_most_similar_address(similarities, original_addresses):\n",
        "\n",
        "    most_similar = []  # Initialize an empty list to store the most similar addresses\n",
        "\n",
        "    # Iterate over each row in the similarities matrix\n",
        "    for i in range(similarities.shape[0]):\n",
        "        # Find the index of the maximum similarity score in the current row\n",
        "        most_similar_idx = similarities[i].argmax()\n",
        "\n",
        "        # Append the original address with the highest similarity score to the result list\n",
        "        most_similar.append(original_addresses[most_similar_idx])\n",
        "\n",
        "    return most_similar\n",
        "\n",
        "# Calculate the cosine similarity matrix between the modified and original TF-IDF matrices\n",
        "cosine_similarities = cosine_similarity(tfidf_modified, tfidf_all)\n",
        "\n",
        "# Find the most similar original addresses for the modified addresses\n",
        "most_similar_addresses = find_most_similar_address(cosine_similarities, df_all_addresses['address'])"
      ]
    },
    {
      "cell_type": "markdown",
      "id": "abb33fcc-9bad-4574-ac44-4f982d63d0cb",
      "metadata": {
        "id": "abb33fcc-9bad-4574-ac44-4f982d63d0cb"
      },
      "source": [
        "### Illustrating Cosine Similarity Scores\n",
        "\n",
        "To better understand the cosine similarity scores, let's visualize the top 3 most similar original addresses for a given modified address using the function below. This function takes an index of a modified address and calculates the cosine similarity between this modified address and all original addresses.\n"
      ]
    },
    {
      "cell_type": "code",
      "execution_count": null,
      "id": "8c906b79-a7a9-4e3b-9430-1cf252b7d68b",
      "metadata": {
        "id": "8c906b79-a7a9-4e3b-9430-1cf252b7d68b",
        "outputId": "68f10e28-958d-4ee9-ccfd-f3a7b5d12d3c"
      },
      "outputs": [
        {
          "data": {
            "image/png": "[encoded data removed]",
            "text/plain": [
              "<Figure size 600x400 with 1 Axes>"
            ]
          },
          "metadata": {},
          "output_type": "display_data"
        }
      ],
      "source": [
        "import numpy as np\n",
        "import matplotlib.pyplot as plt\n",
        "\n",
        "def plot_top_similar_addresses(index, similarities, original_addresses, modified_addresses):\n",
        "\n",
        "    # Extract the similarity scores for the specified modified address\n",
        "    similarity_scores = similarities[index]\n",
        "\n",
        "    # Find the indices of the top 3 most similar original addresses\n",
        "    top_indices = similarity_scores.argsort()[-3:][::-1]\n",
        "\n",
        "    # Get the top 3 most similar original addresses and their similarity scores\n",
        "    top_addresses = [original_addresses[i] for i in top_indices]\n",
        "    top_scores = [similarity_scores[i] for i in top_indices]\n",
        "\n",
        "    # Plot the bar chart\n",
        "    plt.figure(figsize=(6, 4))\n",
        "    bars = plt.barh(range(3), top_scores)\n",
        "    plt.yticks(range(3), top_addresses)\n",
        "    plt.xlabel('Cosine Similarity')\n",
        "    plt.title(f'Top 3 Similar Addresses for This Modified Address: {modified_addresses[index]}')\n",
        "    plt.gca().invert_yaxis()  # To display the highest similarity at the top\n",
        "\n",
        "    # Add annotations to the bars\n",
        "    for bar, score in zip(bars, top_scores):\n",
        "        plt.text(bar.get_width() - 0.05, bar.get_y() + bar.get_height() / 2,\n",
        "                 f'{score:.2f}',\n",
        "                 ha='center', va='center', color='black', fontsize=10)\n",
        "\n",
        "    plt.show()\n",
        "\n",
        "# Example usage\n",
        "# Assuming cosine_similarities is the result from cosine_similarity(tfidf_modified, tfidf_all)\n",
        "# and df_all_addresses['address'] is the list of original addresses\n",
        "\n",
        "# Plot for the first modified address\n",
        "plot_top_similar_addresses(21, cosine_similarities, df_all_addresses['address'], df_modified_addresses['address'])\n"
      ]
    },
    {
      "cell_type": "markdown",
      "id": "fbdfe625-8d45-4bc3-ad2d-e69f20fc9b8f",
      "metadata": {
        "id": "fbdfe625-8d45-4bc3-ad2d-e69f20fc9b8f"
      },
      "source": [
        "## Results\n",
        "We compare the shortened addresses with their most similar original addresses. Only those addresses that were modified (shortened) are included in the results."
      ]
    },
    {
      "cell_type": "code",
      "execution_count": null,
      "id": "2e908351-43e0-489d-b921-42c1131f3087",
      "metadata": {
        "id": "2e908351-43e0-489d-b921-42c1131f3087",
        "outputId": "d8a0740c-fd26-4562-ed50-866753a34e6d"
      },
      "outputs": [
        {
          "data": {
            "text/html": [
              "<div>\n",
              "<style scoped>\n",
              "    .dataframe tbody tr th:only-of-type {\n",
              "        vertical-align: middle;\n",
              "    }\n",
              "\n",
              "    .dataframe tbody tr th {\n",
              "        vertical-align: top;\n",
              "    }\n",
              "\n",
              "    .dataframe thead th {\n",
              "        text-align: right;\n",
              "    }\n",
              "</style>\n",
              "<table border=\"1\" class=\"dataframe\">\n",
              "  <thead>\n",
              "    <tr style=\"text-align: right;\">\n",
              "      <th></th>\n",
              "      <th>Shortened Address</th>\n",
              "      <th>Most Similar Original Address</th>\n",
              "    </tr>\n",
              "  </thead>\n",
              "  <tbody>\n",
              "    <tr>\n",
              "      <th>17</th>\n",
              "      <td>5461 Wst Shades Vlley Drve</td>\n",
              "      <td>5461 West Shades Valley Drive</td>\n",
              "    </tr>\n",
              "    <tr>\n",
              "      <th>21</th>\n",
              "      <td>3729 East Mission Bulevard</td>\n",
              "      <td>3729 East Mission Boulevard</td>\n",
              "    </tr>\n",
              "    <tr>\n",
              "      <th>38</th>\n",
              "      <td>802 Madisn Stret Northwest</td>\n",
              "      <td>802 Madison Street Northwest</td>\n",
              "    </tr>\n",
              "    <tr>\n",
              "      <th>39</th>\n",
              "      <td>2811 Bttery Plac Northwest</td>\n",
              "      <td>2811 Battery Place Northwest</td>\n",
              "    </tr>\n",
              "    <tr>\n",
              "      <th>50</th>\n",
              "      <td>1508 Msschstts vn Sotheast</td>\n",
              "      <td>1508 Massachusetts Avenue Southeast</td>\n",
              "    </tr>\n",
              "    <tr>\n",
              "      <th>51</th>\n",
              "      <td>5615 West Vlla Maria Drive</td>\n",
              "      <td>5615 West Villa Maria Drive</td>\n",
              "    </tr>\n",
              "    <tr>\n",
              "      <th>52</th>\n",
              "      <td>3162 Mrtn Lthr Kng Jnr Blvrd</td>\n",
              "      <td>3162 Martin Luther King Junior Boulevard</td>\n",
              "    </tr>\n",
              "    <tr>\n",
              "      <th>95</th>\n",
              "      <td>7 Undrwood Place Northwest</td>\n",
              "      <td>7 Underwood Place Northwest</td>\n",
              "    </tr>\n",
              "    <tr>\n",
              "      <th>97</th>\n",
              "      <td>1427 Soth Carlin vn Suthst</td>\n",
              "      <td>1427 H Street</td>\n",
              "    </tr>\n",
              "    <tr>\n",
              "      <th>105</th>\n",
              "      <td>1608 Gales Street Northest</td>\n",
              "      <td>1608 Gales Street Northeast</td>\n",
              "    </tr>\n",
              "  </tbody>\n",
              "</table>\n",
              "</div>"
            ],
            "text/plain": [
              "                Shortened Address             Most Similar Original Address\n",
              "17     5461 Wst Shades Vlley Drve             5461 West Shades Valley Drive\n",
              "21     3729 East Mission Bulevard               3729 East Mission Boulevard\n",
              "38     802 Madisn Stret Northwest              802 Madison Street Northwest\n",
              "39     2811 Bttery Plac Northwest              2811 Battery Place Northwest\n",
              "50     1508 Msschstts vn Sotheast       1508 Massachusetts Avenue Southeast\n",
              "51     5615 West Vlla Maria Drive               5615 West Villa Maria Drive\n",
              "52   3162 Mrtn Lthr Kng Jnr Blvrd  3162 Martin Luther King Junior Boulevard\n",
              "95     7 Undrwood Place Northwest               7 Underwood Place Northwest\n",
              "97     1427 Soth Carlin vn Suthst                             1427 H Street\n",
              "105    1608 Gales Street Northest               1608 Gales Street Northeast"
            ]
          },
          "execution_count": 24,
          "metadata": {},
          "output_type": "execute_result"
        }
      ],
      "source": [
        "# Create a DataFrame to show the results\n",
        "df_results = pd.DataFrame({\n",
        "    'Shortened Address': df_modified_addresses['address'],\n",
        "    'Most Similar Original Address': most_similar_addresses\n",
        "})\n",
        "\n",
        "# Filter out the addresses that were not changed\n",
        "df_filtered_results = df_results[df_results['Shortened Address'] != df_results['Most Similar Original Address']]\n",
        "\n",
        "df_filtered_results.to_json('../data/similar_addresses.json', orient='records', lines=True)\n",
        "\n",
        "# Display the results\n",
        "df_filtered_results.head(10)\n",
        "\n",
        "#Todo: add an accuracy measure"
      ]
    },
    {
      "cell_type": "markdown",
      "id": "67df811e-baae-4802-a286-8a036932008a",
      "metadata": {
        "id": "67df811e-baae-4802-a286-8a036932008a"
      },
      "source": [
        "### Accuracy Measurement\n",
        "\n",
        "In this project, we manually produced the modified addresses. Therefore, we know the correct original address for each modified address because they are at the same index in the `all_addresses` and `modified_addresses` lists. This allows us to measure the accuracy of our method by calculating the percentage of found similar addresses that are actually the correct original addresses.\n",
        "\n",
        "To measure accuracy, we compare the most similar original address found by our method to the correct original address. The accuracy is the ratio of correctly identified addresses to the total number of addresses.\n",
        "\n",
        "The code below demonstrates how we calculate this accuracy."
      ]
    },
    {
      "cell_type": "code",
      "execution_count": null,
      "id": "f057d328-1ef7-4175-8729-56489155e7a3",
      "metadata": {
        "id": "f057d328-1ef7-4175-8729-56489155e7a3",
        "outputId": "a1782e64-1eb7-4441-9639-6f34f1871c2d"
      },
      "outputs": [
        {
          "name": "stdout",
          "output_type": "stream",
          "text": [
            "Accuracy of the method: 99.07%\n",
            "\n",
            "Wrong Matches (Index, Modified Address, Found Address, Correct Address):\n",
            "(97, '1427 Soth Carlin vn Suthst', '1427 H Street', '1427 South Carolina Avenue Southeast')\n",
            "(169, '201 Wst Montgomry Crss Rad', '201 West Street', '201 West Montgomery Cross Road')\n",
            "(270, '416 Soth Unvrsity Bolevard', '416 Ridge Street Northwest', '416 South University Boulevard')\n",
            "(345, '1309 Columba Road Nrthwest', '1309 Graniteville Road', '1309 Columbia Road Northwest')\n",
            "(423, '1328 Tuckermn Strt Nrthwst', '1328 Jenks Avenue', '1328 Tuckerman Street Northwest')\n",
            "(465, '1644 Nw Jrsey vnu Nrthwest', '1644 Queenstown Road', '1644 New Jersey Avenue Northwest')\n",
            "(829, '2577 Rhod slnd Avne Nrthst', '2577 East Wyman Road', '2577 Rhode Island Avenue Northeast')\n",
            "(906, '720 ast Mhammad Al Bulvard', '720 Southwest 2nd Street', '720 East Muhammad Ali Boulevard')\n",
            "(982, '503 Blckwod Trrce Southast', '503 Orchard Road', '503 Blackwood Terrace Southeast')\n",
            "(1026, '1516 Bchanan Stret Nrthwst', '1516 Ringe Drive', '1516 Buchanan Street Northwest')\n",
            "(1083, '421 Madson Street Northest', '421 1/2 6th Street Southeast', '421 Madison Street Northeast')\n",
            "(1340, '205 Nrth Hndrsn Bnd Rd Nrthwst', '205 Homestead Street', '205 North Henderson Bend Road Northwest')\n",
            "(1404, '4401 Brlngtn Plce Nrthwest', '4401 Virginia Avenue', '4401 Burlington Place Northwest')\n",
            "(1432, '103 Mrtn Lthr Kng Jnr Blvrd', '103 North East Avenue', '103 Martin Luther King Junior Boulevard')\n",
            "(1466, '401 ast Nrthrn Lghts Blvrd', '401 Fairhill Court', '401 East Northern Lights Boulevard')\n",
            "(1561, '702 Frragut Stret Northwst', '702 Plantation Circle', '702 Farragut Street Northwest')\n",
            "(1786, '7321 ast Chstr Heghts Crcl', '7321 Mary Jo Avenue', '7321 East Chester Heights Circle')\n",
            "(1871, '2927 Mrtn Lthr Kng Jnr vn Sthst', '2927 Leatherwood Drive', '2927 Martin Luther King Junior Avenue Southeast')\n",
            "(1950, '1734 Corcrn Street Nrthwst', '1734 Tamarack Street Northwest', '1734 Corcoran Street Northwest')\n",
            "(2025, '324 Mrtn Lthr Kng Jnr Blvrd', '324 East Drive', '324 Martin Luther King Junior Boulevard')\n",
            "(2052, '712 Parksid Place Northast', '712 Wilsonwood Place', '712 Parkside Place Northeast')\n",
            "(2066, '7401 Wst rrwhd Clubhs Driv', '7401 North 61st Drive', '7401 West Arrowhead Clubhouse Drive')\n",
            "(2234, '1710 Msschsetts Avn Suthst', '1710 Monroe Street Northeast', '1710 Massachusetts Avenue Southeast')\n",
            "(2269, '545 st Muhmmad Al Boulvard', '545 Tracey Drive', '545 East Muhammad Ali Boulevard')\n",
            "(2270, '3538 lbmrle Stret Northwst', '3538 Mendenhall Court', '3538 Albemarle Street Northwest')\n",
            "(2315, '328 Soth Ranchwd Mnor Drve', '328 17th Street', '328 South Ranchwood Manor Drive')\n",
            "(2333, '1402 Nrth Cptl Strt Nrthwst', '1402 Maggies Way', '1402 North Capitol Street Northwest')\n",
            "(2397, '205 West Montgomry Crss Rd', '205 Homestead Street', '205 West Montgomery Cross Road')\n",
            "(2691, '1333 Knyon Stret Northwest', '1333 Farragut Street Northwest', '1333 Kenyon Street Northwest')\n",
            "(3108, '140 Wlliam Chmbrs Jnr Drve', '140 South Hill Avenue', '140 William Chambers Junior Drive')\n"
          ]
        }
      ],
      "source": [
        "# Define the correct original addresses based on indices\n",
        "correct_original_addresses = df_all_addresses['address'].tolist()\n",
        "modified_addresses = df_modified_addresses['address'].tolist()\n",
        "\n",
        "# Calculate accuracy by comparing found similar addresses to the correct original addresses\n",
        "def calculate_accuracy_and_list_wrong_matches(found_addresses, modified_addresses, correct_addresses):\n",
        "    correct_count = 0\n",
        "    wrong_matches = []\n",
        "    for i, (found, modified, correct) in enumerate(zip(found_addresses, modified_addresses, correct_addresses)):\n",
        "        if found == correct:\n",
        "            correct_count += 1\n",
        "        else:\n",
        "            wrong_matches.append((i, modified, found, correct))\n",
        "    accuracy = correct_count / len(correct_addresses)\n",
        "    return accuracy, wrong_matches\n",
        "\n",
        "# Calculate accuracy and get wrong matches\n",
        "accuracy, wrong_matches = calculate_accuracy_and_list_wrong_matches(most_similar_addresses, modified_addresses, correct_original_addresses)\n",
        "\n",
        "# Print accuracy\n",
        "print(f\"Accuracy of the method: {accuracy * 100:.2f}%\")\n",
        "\n",
        "# Print wrong matches\n",
        "print(\"\\nWrong Matches (Index, Modified Address, Found Address, Correct Address):\")\n",
        "for match in wrong_matches:\n",
        "    print(match)\n"
      ]
    },
    {
      "cell_type": "markdown",
      "id": "8acaad3d-323a-4b0b-bbd4-fbb1e5a7bbe2",
      "metadata": {
        "id": "8acaad3d-323a-4b0b-bbd4-fbb1e5a7bbe2"
      },
      "source": [
        "## Conclusion\n",
        "For future improvements, we can explore advanced text similarity techniques to enhance the accuracy of our address matching. Implementing Levenshtein distance will help us account for minor spelling variations and typos. Using Jaccard similarity can measure the overlap between sets of words in the addresses. Combining multiple similarity measures, such as TF-IDF with cosine similarity, Levenshtein distance, and Jaccard similarity, can provide a more robust matching algorithm.\n",
        "\n",
        "In this notebook, we demonstrated how to use TF-IDF vectorization and cosine similarity to find the most similar original addresses for shortened addresses. This method can be useful in various data cleaning and preprocessing tasks where maintaining the integrity of textual data is crucial."
      ]
    }
  ],
  "metadata": {
    "kernelspec": {
      "display_name": "Python 3",
      "name": "python3"
    },
    "language_info": {
      "codemirror_mode": {
        "name": "ipython",
        "version": 3
      },
      "file_extension": ".py",
      "mimetype": "text/x-python",
      "name": "python",
      "nbconvert_exporter": "python",
      "pygments_lexer": "ipython3",
      "version": "3.9.19"
    },
    "colab": {
      "provenance": [],
      "gpuType": "T4"
    },
    "accelerator": "GPU"
  },
  "nbformat": 4,
  "nbformat_minor": 5
}